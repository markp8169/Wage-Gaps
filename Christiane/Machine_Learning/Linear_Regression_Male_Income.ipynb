{
 "cells": [
  {
   "cell_type": "code",
   "execution_count": 1,
   "metadata": {},
   "outputs": [],
   "source": [
    "%matplotlib inline\n",
    "import matplotlib.pyplot as plt\n",
    "import numpy as np\n",
    "import pandas as pd"
   ]
  },
  {
   "cell_type": "code",
   "execution_count": 2,
   "metadata": {},
   "outputs": [
    {
     "data": {
      "text/html": [
       "<div>\n",
       "<style scoped>\n",
       "    .dataframe tbody tr th:only-of-type {\n",
       "        vertical-align: middle;\n",
       "    }\n",
       "\n",
       "    .dataframe tbody tr th {\n",
       "        vertical-align: top;\n",
       "    }\n",
       "\n",
       "    .dataframe thead th {\n",
       "        text-align: right;\n",
       "    }\n",
       "</style>\n",
       "<table border=\"1\" class=\"dataframe\">\n",
       "  <thead>\n",
       "    <tr style=\"text-align: right;\">\n",
       "      <th></th>\n",
       "      <th>Year</th>\n",
       "      <th>MI</th>\n",
       "      <th>FI</th>\n",
       "    </tr>\n",
       "  </thead>\n",
       "  <tbody>\n",
       "    <tr>\n",
       "      <th>0</th>\n",
       "      <td>2017</td>\n",
       "      <td>58927</td>\n",
       "      <td>37537</td>\n",
       "    </tr>\n",
       "    <tr>\n",
       "      <th>1</th>\n",
       "      <td>2016</td>\n",
       "      <td>57147</td>\n",
       "      <td>36157</td>\n",
       "    </tr>\n",
       "    <tr>\n",
       "      <th>2</th>\n",
       "      <td>2015</td>\n",
       "      <td>54757</td>\n",
       "      <td>34453</td>\n",
       "    </tr>\n",
       "    <tr>\n",
       "      <th>3</th>\n",
       "      <td>2014</td>\n",
       "      <td>53196</td>\n",
       "      <td>32588</td>\n",
       "    </tr>\n",
       "    <tr>\n",
       "      <th>4</th>\n",
       "      <td>2013</td>\n",
       "      <td>50779</td>\n",
       "      <td>31968</td>\n",
       "    </tr>\n",
       "  </tbody>\n",
       "</table>\n",
       "</div>"
      ],
      "text/plain": [
       "   Year     MI     FI\n",
       "0  2017  58927  37537\n",
       "1  2016  57147  36157\n",
       "2  2015  54757  34453\n",
       "3  2014  53196  32588\n",
       "4  2013  50779  31968"
      ]
     },
     "execution_count": 2,
     "metadata": {},
     "output_type": "execute_result"
    }
   ],
   "source": [
    "income_data = pd.read_csv('MLDataFull.csv')\n",
    "income_data.head()"
   ]
  },
  {
   "cell_type": "code",
   "execution_count": 3,
   "metadata": {},
   "outputs": [
    {
     "data": {
      "text/html": [
       "<div>\n",
       "<style scoped>\n",
       "    .dataframe tbody tr th:only-of-type {\n",
       "        vertical-align: middle;\n",
       "    }\n",
       "\n",
       "    .dataframe tbody tr th {\n",
       "        vertical-align: top;\n",
       "    }\n",
       "\n",
       "    .dataframe thead th {\n",
       "        text-align: right;\n",
       "    }\n",
       "</style>\n",
       "<table border=\"1\" class=\"dataframe\">\n",
       "  <thead>\n",
       "    <tr style=\"text-align: right;\">\n",
       "      <th></th>\n",
       "      <th>Year</th>\n",
       "      <th>MI</th>\n",
       "    </tr>\n",
       "  </thead>\n",
       "  <tbody>\n",
       "    <tr>\n",
       "      <th>10</th>\n",
       "      <td>2007</td>\n",
       "      <td>47137</td>\n",
       "    </tr>\n",
       "    <tr>\n",
       "      <th>11</th>\n",
       "      <td>2006</td>\n",
       "      <td>46677</td>\n",
       "    </tr>\n",
       "    <tr>\n",
       "      <th>12</th>\n",
       "      <td>2005</td>\n",
       "      <td>44850</td>\n",
       "    </tr>\n",
       "    <tr>\n",
       "      <th>13</th>\n",
       "      <td>2004</td>\n",
       "      <td>42831</td>\n",
       "    </tr>\n",
       "    <tr>\n",
       "      <th>14</th>\n",
       "      <td>2003</td>\n",
       "      <td>41483</td>\n",
       "    </tr>\n",
       "  </tbody>\n",
       "</table>\n",
       "</div>"
      ],
      "text/plain": [
       "    Year     MI\n",
       "10  2007  47137\n",
       "11  2006  46677\n",
       "12  2005  44850\n",
       "13  2004  42831\n",
       "14  2003  41483"
      ]
     },
     "execution_count": 3,
     "metadata": {},
     "output_type": "execute_result"
    }
   ],
   "source": [
    "male_1967_2007 = income_data.loc[income_data[\"Year\"] <= 2007, [\"Year\", \"MI\"]]\n",
    "male_1967_2007.head()"
   ]
  },
  {
   "cell_type": "code",
   "execution_count": 4,
   "metadata": {},
   "outputs": [
    {
     "data": {
      "text/html": [
       "<div>\n",
       "<style scoped>\n",
       "    .dataframe tbody tr th:only-of-type {\n",
       "        vertical-align: middle;\n",
       "    }\n",
       "\n",
       "    .dataframe tbody tr th {\n",
       "        vertical-align: top;\n",
       "    }\n",
       "\n",
       "    .dataframe thead th {\n",
       "        text-align: right;\n",
       "    }\n",
       "</style>\n",
       "<table border=\"1\" class=\"dataframe\">\n",
       "  <thead>\n",
       "    <tr style=\"text-align: right;\">\n",
       "      <th></th>\n",
       "      <th>Year</th>\n",
       "      <th>MI</th>\n",
       "    </tr>\n",
       "  </thead>\n",
       "  <tbody>\n",
       "    <tr>\n",
       "      <th>0</th>\n",
       "      <td>2017</td>\n",
       "      <td>58927</td>\n",
       "    </tr>\n",
       "    <tr>\n",
       "      <th>1</th>\n",
       "      <td>2016</td>\n",
       "      <td>57147</td>\n",
       "    </tr>\n",
       "    <tr>\n",
       "      <th>2</th>\n",
       "      <td>2015</td>\n",
       "      <td>54757</td>\n",
       "    </tr>\n",
       "    <tr>\n",
       "      <th>3</th>\n",
       "      <td>2014</td>\n",
       "      <td>53196</td>\n",
       "    </tr>\n",
       "    <tr>\n",
       "      <th>4</th>\n",
       "      <td>2013</td>\n",
       "      <td>50779</td>\n",
       "    </tr>\n",
       "  </tbody>\n",
       "</table>\n",
       "</div>"
      ],
      "text/plain": [
       "   Year     MI\n",
       "0  2017  58927\n",
       "1  2016  57147\n",
       "2  2015  54757\n",
       "3  2014  53196\n",
       "4  2013  50779"
      ]
     },
     "execution_count": 4,
     "metadata": {},
     "output_type": "execute_result"
    }
   ],
   "source": [
    "male_1967_2017 = income_data.loc[income_data[\"Year\"] <= 2017, [\"Year\", \"MI\"]]\n",
    "male_1967_2017.head()"
   ]
  },
  {
   "cell_type": "code",
   "execution_count": 5,
   "metadata": {},
   "outputs": [
    {
     "data": {
      "text/html": [
       "<div>\n",
       "<style scoped>\n",
       "    .dataframe tbody tr th:only-of-type {\n",
       "        vertical-align: middle;\n",
       "    }\n",
       "\n",
       "    .dataframe tbody tr th {\n",
       "        vertical-align: top;\n",
       "    }\n",
       "\n",
       "    .dataframe thead th {\n",
       "        text-align: right;\n",
       "    }\n",
       "</style>\n",
       "<table border=\"1\" class=\"dataframe\">\n",
       "  <thead>\n",
       "    <tr style=\"text-align: right;\">\n",
       "      <th></th>\n",
       "      <th>Year</th>\n",
       "      <th>MI</th>\n",
       "    </tr>\n",
       "  </thead>\n",
       "  <tbody>\n",
       "    <tr>\n",
       "      <th>0</th>\n",
       "      <td>2017</td>\n",
       "      <td>58927</td>\n",
       "    </tr>\n",
       "    <tr>\n",
       "      <th>1</th>\n",
       "      <td>2016</td>\n",
       "      <td>57147</td>\n",
       "    </tr>\n",
       "    <tr>\n",
       "      <th>2</th>\n",
       "      <td>2015</td>\n",
       "      <td>54757</td>\n",
       "    </tr>\n",
       "    <tr>\n",
       "      <th>3</th>\n",
       "      <td>2014</td>\n",
       "      <td>53196</td>\n",
       "    </tr>\n",
       "    <tr>\n",
       "      <th>4</th>\n",
       "      <td>2013</td>\n",
       "      <td>50779</td>\n",
       "    </tr>\n",
       "    <tr>\n",
       "      <th>5</th>\n",
       "      <td>2012</td>\n",
       "      <td>49915</td>\n",
       "    </tr>\n",
       "    <tr>\n",
       "      <th>6</th>\n",
       "      <td>2011</td>\n",
       "      <td>48948</td>\n",
       "    </tr>\n",
       "    <tr>\n",
       "      <th>7</th>\n",
       "      <td>2010</td>\n",
       "      <td>47077</td>\n",
       "    </tr>\n",
       "    <tr>\n",
       "      <th>8</th>\n",
       "      <td>2009</td>\n",
       "      <td>46800</td>\n",
       "    </tr>\n",
       "    <tr>\n",
       "      <th>9</th>\n",
       "      <td>2008</td>\n",
       "      <td>47751</td>\n",
       "    </tr>\n",
       "    <tr>\n",
       "      <th>10</th>\n",
       "      <td>2007</td>\n",
       "      <td>47137</td>\n",
       "    </tr>\n",
       "  </tbody>\n",
       "</table>\n",
       "</div>"
      ],
      "text/plain": [
       "    Year     MI\n",
       "0   2017  58927\n",
       "1   2016  57147\n",
       "2   2015  54757\n",
       "3   2014  53196\n",
       "4   2013  50779\n",
       "5   2012  49915\n",
       "6   2011  48948\n",
       "7   2010  47077\n",
       "8   2009  46800\n",
       "9   2008  47751\n",
       "10  2007  47137"
      ]
     },
     "execution_count": 5,
     "metadata": {},
     "output_type": "execute_result"
    }
   ],
   "source": [
    "male_2007_2017 = income_data.loc[income_data[\"Year\"] >= 2007, [\"Year\", \"MI\"]]\n",
    "male_2007_2017.head(20)"
   ]
  },
  {
   "cell_type": "markdown",
   "metadata": {},
   "source": [
    "## First Model\n",
    "* Fit the male model using 1967 to 2007 data;\n",
    "* Predict the income from 2007 to 2017 and check how accurate the model was;\n",
    "* Predict the income for the next 10 years (2017 to 2027)."
   ]
  },
  {
   "cell_type": "code",
   "execution_count": 6,
   "metadata": {},
   "outputs": [
    {
     "name": "stdout",
     "output_type": "stream",
     "text": [
      "(41, 1) (41, 1)\n"
     ]
    }
   ],
   "source": [
    "# Assign the data to X and y (1967 to 2007)\n",
    "X_male = male_1967_2007[\"Year\"].values.reshape(-1,1)\n",
    "y_male = male_1967_2007[\"MI\"].values.reshape(-1, 1)\n",
    "print(X_male.shape, y_male.shape)"
   ]
  },
  {
   "cell_type": "code",
   "execution_count": 7,
   "metadata": {
    "nbgrader": {
     "grade": false,
     "grade_id": "cell-9042a62fdddc21ba",
     "locked": false,
     "schema_version": 1,
     "solution": true
    }
   },
   "outputs": [
    {
     "data": {
      "text/plain": [
       "LinearRegression(copy_X=True, fit_intercept=True, n_jobs=1, normalize=False)"
      ]
     },
     "execution_count": 7,
     "metadata": {},
     "output_type": "execute_result"
    }
   ],
   "source": [
    "# Create the model and fit the model to the data\n",
    "from sklearn.linear_model import LinearRegression\n",
    "\n",
    "model_male = LinearRegression()\n",
    "model_male.fit(X_male, y_male)"
   ]
  },
  {
   "cell_type": "code",
   "execution_count": 8,
   "metadata": {},
   "outputs": [
    {
     "name": "stdout",
     "output_type": "stream",
     "text": [
      "Weight coefficients:  [[1074.40069686]]\n",
      "y-axis intercept:  [-2110847.5261324]\n"
     ]
    }
   ],
   "source": [
    "# Print the coefficient and the intercept for the model\n",
    "print('Weight coefficients: ', model_male.coef_)\n",
    "print('y-axis intercept: ', model_male.intercept_)"
   ]
  },
  {
   "cell_type": "code",
   "execution_count": 9,
   "metadata": {},
   "outputs": [
    {
     "name": "stdout",
     "output_type": "stream",
     "text": [
      "Min Male X Value: [[1967]]\n",
      "Max Male X Value: [[2007]]\n"
     ]
    }
   ],
   "source": [
    "# Note: we have to transform our min and max values \n",
    "# so they are in the format: array([[ 1.17]])\n",
    "# This is the required format for `model.predict()`\n",
    "x_male_min = np.array([[X_male.min()]])\n",
    "x_male_max = np.array([[X_male.max()]])\n",
    "print(f\"Min Male X Value: {x_male_min}\")\n",
    "print(f\"Max Male X Value: {x_male_max}\")"
   ]
  },
  {
   "cell_type": "code",
   "execution_count": 10,
   "metadata": {},
   "outputs": [],
   "source": [
    "# Calculate the y_min and y_max using model.predict and x_min and x_max\n",
    "y_male_min = model_male.predict(x_male_min)\n",
    "y_male_max = model_male.predict(x_male_max)"
   ]
  },
  {
   "cell_type": "code",
   "execution_count": 11,
   "metadata": {},
   "outputs": [
    {
     "name": "stdout",
     "output_type": "stream",
     "text": [
      "[[2498.6445993]] [[45474.67247387]]\n"
     ]
    }
   ],
   "source": [
    "print(y_male_min, y_male_max)"
   ]
  },
  {
   "cell_type": "code",
   "execution_count": 12,
   "metadata": {},
   "outputs": [
    {
     "name": "stdout",
     "output_type": "stream",
     "text": [
      "Mean Squared Error (MSE): 2250804.2833346864\n",
      "R-squared (R2 ): 0.9862636870130662\n"
     ]
    }
   ],
   "source": [
    "from sklearn.metrics import mean_squared_error, r2_score\n",
    "\n",
    "# Use our model to predict a value\n",
    "predicted = model_male.predict(X_male)\n",
    "\n",
    "# Score the prediction with mse and r2\n",
    "mse = mean_squared_error(y_male, predicted)\n",
    "r2 = r2_score(y_male, predicted)\n",
    "\n",
    "print(f\"Mean Squared Error (MSE): {mse}\")\n",
    "print(f\"R-squared (R2 ): {r2}\")"
   ]
  },
  {
   "cell_type": "code",
   "execution_count": 13,
   "metadata": {},
   "outputs": [
    {
     "data": {
      "image/png": "[encoded data removed]",
      "text/plain": [
       "<Figure size 432x288 with 1 Axes>"
      ]
     },
     "metadata": {},
     "output_type": "display_data"
    }
   ],
   "source": [
    "# Plot X and y using plt.scatter\n",
    "# Plot the model fit line using [x_min[0], x_max[0]], [y_min[0], y_max[0]]\n",
    "\n",
    "plt.scatter(X_male, y_male, c='lightblue')\n",
    "plt.plot([x_male_min[0], x_male_max[0]], [y_male_min[0], y_male_max[0]], c='red')\n",
    "\n",
    "plt.title(\"Male Income 1967 to 2007\")\n",
    "plt.xlabel(\"Year\")\n",
    "plt.ylabel(\"Total Income($)\")\n",
    "plt.savefig(\"Male Income 1967_2007\")"
   ]
  },
  {
   "cell_type": "code",
   "execution_count": 14,
   "metadata": {},
   "outputs": [
    {
     "name": "stdout",
     "output_type": "stream",
     "text": [
      "(11, 1) (11, 1)\n"
     ]
    }
   ],
   "source": [
    "# Use the completed file to test \n",
    "# Assign the data to X and y (2007 to 2017)\n",
    "X_male_full = male_2007_2017[\"Year\"].values.reshape(-1,1)\n",
    "y_male_full = male_2007_2017[\"MI\"].values.reshape(-1, 1)\n",
    "print(X_male_full.shape, y_male_full.shape)"
   ]
  },
  {
   "cell_type": "code",
   "execution_count": 15,
   "metadata": {},
   "outputs": [
    {
     "name": "stdout",
     "output_type": "stream",
     "text": [
      "Min Male X Value: [[2007]]\n",
      "Max Male X Value: [[2017]]\n"
     ]
    }
   ],
   "source": [
    "# Note: we have to transform our min and max values \n",
    "# so they are in the format: array([[ 1.17]])\n",
    "# This is the required format for `model.predict()`\n",
    "x_male_full_min = np.array([[X_male_full.min()]])\n",
    "x_male_full_max = np.array([[X_male_full.max()]])\n",
    "print(f\"Min Male X Value: {x_male_full_min}\")\n",
    "print(f\"Max Male X Value: {x_male_full_max}\")"
   ]
  },
  {
   "cell_type": "code",
   "execution_count": 16,
   "metadata": {},
   "outputs": [],
   "source": [
    "# Calculate the y_min and y_max using model.predict and x_min and x_max\n",
    "y_male_full_min = model_male.predict(x_male_full_min)\n",
    "y_male_full_max = model_male.predict(x_male_full_max)"
   ]
  },
  {
   "cell_type": "code",
   "execution_count": 17,
   "metadata": {},
   "outputs": [
    {
     "name": "stdout",
     "output_type": "stream",
     "text": [
      "[[45474.67247387]] [[56218.67944251]]\n"
     ]
    }
   ],
   "source": [
    "print(y_male_full_min, y_male_full_max)"
   ]
  },
  {
   "cell_type": "code",
   "execution_count": 18,
   "metadata": {},
   "outputs": [
    {
     "data": {
      "image/png": "[encoded data removed]",
      "text/plain": [
       "<Figure size 432x288 with 1 Axes>"
      ]
     },
     "metadata": {},
     "output_type": "display_data"
    }
   ],
   "source": [
    "#Male income over time\n",
    "plt.scatter(male_1967_2017[\"Year\"],male_1967_2017[\"MI\"], alpha = 0.75, color=\"lightblue\")\n",
    "\n",
    "plt.plot([x_male_min[0], x_male_max[0]], [y_male_min[0], y_male_max[0]], c='red')\n",
    "plt.plot([x_male_full_min[0], x_male_full_max[0]], [y_male_full_min[0], y_male_full_max[0]], c='black')\n",
    "\n",
    "plt.title(\"Male Income 1967 to 2017\")\n",
    "plt.xlabel(\"Year\")\n",
    "plt.ylabel(\"Total Income($)\")\n",
    "plt.savefig(\"Male Income 1967_2017\")\n",
    "plt.show()"
   ]
  },
  {
   "cell_type": "code",
   "execution_count": 19,
   "metadata": {},
   "outputs": [],
   "source": [
    "# Plot the Residuals for the 2007 to 2017 actual and predicted data\n",
    "# plt.scatter(male_2007_2017[\"Year\"],male_2007_2017[\"MI\"] - y_male, c=\"blue\", label=\"Training Data\")\n",
    "# plt.scatter(model_male.predict(X_male), model_male.predict(X_male) - y_male, c=\"orange\", label=\"Testing Data\")\n",
    "# plt.hlines(y=0, xmin=y.min(), xmax=y.max())\n",
    "# plt.title(\"Residual Plot\")"
   ]
  },
  {
   "cell_type": "code",
   "execution_count": 20,
   "metadata": {},
   "outputs": [
    {
     "name": "stdout",
     "output_type": "stream",
     "text": [
      "Min Male X Value: [[2017]]\n",
      "Max Male X Value: [[2027]]\n"
     ]
    }
   ],
   "source": [
    "x_male_fut_min = np.array([[2017]])\n",
    "x_male_fut_max = np.array([[2027]])\n",
    "print(f\"Min Male X Value: {x_male_fut_min}\")\n",
    "print(f\"Max Male X Value: {x_male_fut_max}\")"
   ]
  },
  {
   "cell_type": "code",
   "execution_count": 21,
   "metadata": {},
   "outputs": [
    {
     "name": "stdout",
     "output_type": "stream",
     "text": [
      "[[56218.67944251]] [[66962.68641115]]\n"
     ]
    }
   ],
   "source": [
    "y_male_fut_min = model_male.predict(x_male_fut_min)\n",
    "y_male_fut_max = model_male.predict(x_male_fut_max)\n",
    "print(y_male_fut_min, y_male_fut_max)"
   ]
  },
  {
   "cell_type": "code",
   "execution_count": 22,
   "metadata": {},
   "outputs": [
    {
     "data": {
      "image/png": "[encoded data removed]",
      "text/plain": [
       "<Figure size 432x288 with 1 Axes>"
      ]
     },
     "metadata": {},
     "output_type": "display_data"
    }
   ],
   "source": [
    "#Male income over the next 10 years\n",
    "plt.scatter(male_1967_2017[\"Year\"],male_1967_2017[\"MI\"], alpha = 0.75, color=\"lightblue\")\n",
    "\n",
    "plt.plot([x_male_min[0], x_male_max[0]], [y_male_min[0], y_male_max[0]], c='red')\n",
    "plt.plot([x_male_full_min[0], x_male_full_max[0]], [y_male_full_min[0], y_male_full_max[0]], c='black')\n",
    "plt.plot([x_male_fut_min[0], x_male_fut_max[0]], [y_male_fut_min[0], y_male_fut_max[0]], c='green')\n",
    "\n",
    "plt.title(\"Male Income Over the Next 10 Years\")\n",
    "plt.xlabel(\"Year\")\n",
    "plt.ylabel(\"Total Income($)\")\n",
    "plt.savefig(\"Future Male Income\")\n",
    "plt.show()"
   ]
  },
  {
   "cell_type": "markdown",
   "metadata": {},
   "source": [
    "## Second Model\n",
    "* Fit the male model using 1967 to 2017 data;\n",
    "* Predict the income for the next 10 years (2017 to 2027);\n",
    "* Compare the predictions between first and second model."
   ]
  },
  {
   "cell_type": "code",
   "execution_count": 23,
   "metadata": {},
   "outputs": [
    {
     "name": "stdout",
     "output_type": "stream",
     "text": [
      "(51, 1) (51, 1)\n"
     ]
    }
   ],
   "source": [
    "# Assign the data to X and y (1967 to 2007)\n",
    "X_male = male_1967_2017[\"Year\"].values.reshape(-1,1)\n",
    "y_male = male_1967_2017[\"MI\"].values.reshape(-1, 1)\n",
    "print(X_male.shape, y_male.shape)"
   ]
  },
  {
   "cell_type": "code",
   "execution_count": 24,
   "metadata": {},
   "outputs": [
    {
     "data": {
      "text/plain": [
       "LinearRegression(copy_X=True, fit_intercept=True, n_jobs=1, normalize=False)"
      ]
     },
     "execution_count": 24,
     "metadata": {},
     "output_type": "execute_result"
    }
   ],
   "source": [
    "model_male = LinearRegression()\n",
    "model_male.fit(X_male, y_male)"
   ]
  },
  {
   "cell_type": "code",
   "execution_count": 25,
   "metadata": {},
   "outputs": [
    {
     "name": "stdout",
     "output_type": "stream",
     "text": [
      "Min Male X Value: [[1967]]\n",
      "Max Male X Value: [[2017]]\n"
     ]
    }
   ],
   "source": [
    "x_male_min = np.array([[X_male.min()]])\n",
    "x_male_max = np.array([[X_male.max()]])\n",
    "print(f\"Min Male X Value: {x_male_min}\")\n",
    "print(f\"Max Male X Value: {x_male_max}\")"
   ]
  },
  {
   "cell_type": "code",
   "execution_count": 26,
   "metadata": {},
   "outputs": [],
   "source": [
    "# Calculate the y_min and y_max using model.predict and x_min and x_max\n",
    "y_male_min = model_male.predict(x_male_min)\n",
    "y_male_max = model_male.predict(x_male_max)"
   ]
  },
  {
   "cell_type": "code",
   "execution_count": 27,
   "metadata": {},
   "outputs": [
    {
     "name": "stdout",
     "output_type": "stream",
     "text": [
      "[[2405.59426848]] [[56368.91553544]]\n"
     ]
    }
   ],
   "source": [
    "print(y_male_min, y_male_max)"
   ]
  },
  {
   "cell_type": "code",
   "execution_count": 28,
   "metadata": {},
   "outputs": [
    {
     "data": {
      "image/png": "[encoded data removed]",
      "text/plain": [
       "<Figure size 432x288 with 1 Axes>"
      ]
     },
     "metadata": {},
     "output_type": "display_data"
    }
   ],
   "source": [
    "# Plot X and y using plt.scatter\n",
    "# Plot the model fit line using [x_min[0], x_max[0]], [y_min[0], y_max[0]]\n",
    "\n",
    "plt.scatter(X_male, y_male, c='lightblue')\n",
    "plt.plot([x_male_min[0], x_male_max[0]], [y_male_min[0], y_male_max[0]], c='red')\n",
    "\n",
    "plt.title(\"Male Income 1967 to 2017\")\n",
    "plt.xlabel(\"Year\")\n",
    "plt.ylabel(\"Total Income($)\")\n",
    "plt.savefig(\"Male Income 1967_2017_2\")"
   ]
  },
  {
   "cell_type": "code",
   "execution_count": 29,
   "metadata": {},
   "outputs": [
    {
     "name": "stdout",
     "output_type": "stream",
     "text": [
      "Min Male X Value: [[2017]]\n",
      "Max Male X Value: [[2027]]\n"
     ]
    }
   ],
   "source": [
    "x_male_fut_min_2 = np.array([[2017]])\n",
    "x_male_fut_max_2 = np.array([[2027]])\n",
    "print(f\"Min Male X Value: {x_male_fut_min}\")\n",
    "print(f\"Max Male X Value: {x_male_fut_max}\")"
   ]
  },
  {
   "cell_type": "code",
   "execution_count": 30,
   "metadata": {},
   "outputs": [
    {
     "name": "stdout",
     "output_type": "stream",
     "text": [
      "[[56368.91553544]] [[67161.57978884]]\n"
     ]
    }
   ],
   "source": [
    "y_male_fut_min_2 = model_male.predict(x_male_fut_min_2)\n",
    "y_male_fut_max_2 = model_male.predict(x_male_fut_max_2)\n",
    "print(y_male_fut_min_2, y_male_fut_max_2)"
   ]
  },
  {
   "cell_type": "code",
   "execution_count": 31,
   "metadata": {},
   "outputs": [
    {
     "data": {
      "image/png": "[encoded data removed]",
      "text/plain": [
       "<Figure size 432x288 with 1 Axes>"
      ]
     },
     "metadata": {},
     "output_type": "display_data"
    }
   ],
   "source": [
    "#Male income over the next 10 years\n",
    "plt.scatter(male_1967_2017[\"Year\"],male_1967_2017[\"MI\"], alpha = 0.75, color=\"lightblue\")\n",
    "\n",
    "plt.plot([x_male_min[0], x_male_max[0]], [y_male_min[0], y_male_max[0]], c='red')\n",
    "plt.plot([x_male_fut_min_2[0], x_male_fut_max_2[0]], [y_male_fut_min_2[0], y_male_fut_max_2[0]], c='green')\n",
    "\n",
    "plt.title(\"Male Income Over the Next 10 Years\")\n",
    "plt.xlabel(\"Year\")\n",
    "plt.ylabel(\"Total Income($)\")\n",
    "plt.savefig(\"Future Male Income_2\")\n",
    "plt.show()"
   ]
  },
  {
   "cell_type": "code",
   "execution_count": 32,
   "metadata": {},
   "outputs": [
    {
     "data": {
      "image/png": "[encoded data removed]",
      "text/plain": [
       "<Figure size 432x288 with 1 Axes>"
      ]
     },
     "metadata": {},
     "output_type": "display_data"
    }
   ],
   "source": [
    "plt.plot([x_male_fut_min[0], x_male_fut_max[0]], [y_male_fut_min[0], y_male_fut_max[0]], c='orange')\n",
    "plt.plot([x_male_fut_min_2[0], x_male_fut_max_2[0]], [y_male_fut_min_2[0], y_male_fut_max_2[0]], c='green')\n",
    "\n",
    "plt.title(\"Comparasion between the 2 models\")\n",
    "plt.xlabel(\"Year\")\n",
    "plt.ylabel(\"Total Income($)\")\n",
    "plt.savefig(\"Comparasion_Male\")\n",
    "plt.show()"
   ]
  }
 ],
 "metadata": {
  "celltoolbar": "Create Assignment",
  "kernelspec": {
   "display_name": "Python 3",
   "language": "python",
   "name": "python3"
  },
  "language_info": {
   "codemirror_mode": {
    "name": "ipython",
    "version": 3
   },
   "file_extension": ".py",
   "mimetype": "text/x-python",
   "name": "python",
   "nbconvert_exporter": "python",
   "pygments_lexer": "ipython3",
   "version": "3.6.5"
  },
  "varInspector": {
   "cols": {
    "lenName": 16,
    "lenType": 16,
    "lenVar": 40
   },
   "kernels_config": {
    "python": {
     "delete_cmd_postfix": "",
     "delete_cmd_prefix": "del ",
     "library": "var_list.py",
     "varRefreshCmd": "print(var_dic_list())"
    },
    "r": {
     "delete_cmd_postfix": ") ",
     "delete_cmd_prefix": "rm(",
     "library": "var_list.r",
     "varRefreshCmd": "cat(var_dic_list()) "
    }
   },
   "types_to_exclude": [
    "module",
    "function",
    "builtin_function_or_method",
    "instance",
    "_Feature"
   ],
   "window_display": false
  }
 },
 "nbformat": 4,
 "nbformat_minor": 2
}
