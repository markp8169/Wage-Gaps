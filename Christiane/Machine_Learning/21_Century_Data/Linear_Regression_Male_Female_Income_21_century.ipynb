{
 "cells": [
  {
   "cell_type": "code",
   "execution_count": 1,
   "metadata": {},
   "outputs": [],
   "source": [
    "%matplotlib inline\n",
    "import matplotlib.pyplot as plt\n",
    "import numpy as np\n",
    "import pandas as pd"
   ]
  },
  {
   "cell_type": "code",
   "execution_count": 2,
   "metadata": {},
   "outputs": [
    {
     "data": {
      "text/html": [
       "<div>\n",
       "<style scoped>\n",
       "    .dataframe tbody tr th:only-of-type {\n",
       "        vertical-align: middle;\n",
       "    }\n",
       "\n",
       "    .dataframe tbody tr th {\n",
       "        vertical-align: top;\n",
       "    }\n",
       "\n",
       "    .dataframe thead th {\n",
       "        text-align: right;\n",
       "    }\n",
       "</style>\n",
       "<table border=\"1\" class=\"dataframe\">\n",
       "  <thead>\n",
       "    <tr style=\"text-align: right;\">\n",
       "      <th></th>\n",
       "      <th>Year</th>\n",
       "      <th>MI</th>\n",
       "      <th>FI</th>\n",
       "    </tr>\n",
       "  </thead>\n",
       "  <tbody>\n",
       "    <tr>\n",
       "      <th>0</th>\n",
       "      <td>2017</td>\n",
       "      <td>58927</td>\n",
       "      <td>37537</td>\n",
       "    </tr>\n",
       "    <tr>\n",
       "      <th>1</th>\n",
       "      <td>2016</td>\n",
       "      <td>57147</td>\n",
       "      <td>36157</td>\n",
       "    </tr>\n",
       "    <tr>\n",
       "      <th>2</th>\n",
       "      <td>2015</td>\n",
       "      <td>54757</td>\n",
       "      <td>34453</td>\n",
       "    </tr>\n",
       "    <tr>\n",
       "      <th>3</th>\n",
       "      <td>2014</td>\n",
       "      <td>53196</td>\n",
       "      <td>32588</td>\n",
       "    </tr>\n",
       "    <tr>\n",
       "      <th>4</th>\n",
       "      <td>2013</td>\n",
       "      <td>50779</td>\n",
       "      <td>31968</td>\n",
       "    </tr>\n",
       "  </tbody>\n",
       "</table>\n",
       "</div>"
      ],
      "text/plain": [
       "   Year     MI     FI\n",
       "0  2017  58927  37537\n",
       "1  2016  57147  36157\n",
       "2  2015  54757  34453\n",
       "3  2014  53196  32588\n",
       "4  2013  50779  31968"
      ]
     },
     "execution_count": 2,
     "metadata": {},
     "output_type": "execute_result"
    }
   ],
   "source": [
    "income_data = pd.read_csv('MLDataFull.csv')\n",
    "income_data.head()"
   ]
  },
  {
   "cell_type": "code",
   "execution_count": 3,
   "metadata": {},
   "outputs": [
    {
     "data": {
      "text/html": [
       "<div>\n",
       "<style scoped>\n",
       "    .dataframe tbody tr th:only-of-type {\n",
       "        vertical-align: middle;\n",
       "    }\n",
       "\n",
       "    .dataframe tbody tr th {\n",
       "        vertical-align: top;\n",
       "    }\n",
       "\n",
       "    .dataframe thead th {\n",
       "        text-align: right;\n",
       "    }\n",
       "</style>\n",
       "<table border=\"1\" class=\"dataframe\">\n",
       "  <thead>\n",
       "    <tr style=\"text-align: right;\">\n",
       "      <th></th>\n",
       "      <th>Year</th>\n",
       "      <th>MI</th>\n",
       "    </tr>\n",
       "  </thead>\n",
       "  <tbody>\n",
       "    <tr>\n",
       "      <th>0</th>\n",
       "      <td>2017</td>\n",
       "      <td>58927</td>\n",
       "    </tr>\n",
       "    <tr>\n",
       "      <th>1</th>\n",
       "      <td>2016</td>\n",
       "      <td>57147</td>\n",
       "    </tr>\n",
       "    <tr>\n",
       "      <th>2</th>\n",
       "      <td>2015</td>\n",
       "      <td>54757</td>\n",
       "    </tr>\n",
       "    <tr>\n",
       "      <th>3</th>\n",
       "      <td>2014</td>\n",
       "      <td>53196</td>\n",
       "    </tr>\n",
       "    <tr>\n",
       "      <th>4</th>\n",
       "      <td>2013</td>\n",
       "      <td>50779</td>\n",
       "    </tr>\n",
       "  </tbody>\n",
       "</table>\n",
       "</div>"
      ],
      "text/plain": [
       "   Year     MI\n",
       "0  2017  58927\n",
       "1  2016  57147\n",
       "2  2015  54757\n",
       "3  2014  53196\n",
       "4  2013  50779"
      ]
     },
     "execution_count": 3,
     "metadata": {},
     "output_type": "execute_result"
    }
   ],
   "source": [
    "male_2000_2017 = income_data.loc[income_data[\"Year\"] >= 2000, [\"Year\", \"MI\"]]\n",
    "male_2000_2017.head()"
   ]
  },
  {
   "cell_type": "code",
   "execution_count": 4,
   "metadata": {},
   "outputs": [
    {
     "data": {
      "text/html": [
       "<div>\n",
       "<style scoped>\n",
       "    .dataframe tbody tr th:only-of-type {\n",
       "        vertical-align: middle;\n",
       "    }\n",
       "\n",
       "    .dataframe tbody tr th {\n",
       "        vertical-align: top;\n",
       "    }\n",
       "\n",
       "    .dataframe thead th {\n",
       "        text-align: right;\n",
       "    }\n",
       "</style>\n",
       "<table border=\"1\" class=\"dataframe\">\n",
       "  <thead>\n",
       "    <tr style=\"text-align: right;\">\n",
       "      <th></th>\n",
       "      <th>Year</th>\n",
       "      <th>FI</th>\n",
       "    </tr>\n",
       "  </thead>\n",
       "  <tbody>\n",
       "    <tr>\n",
       "      <th>0</th>\n",
       "      <td>2017</td>\n",
       "      <td>37537</td>\n",
       "    </tr>\n",
       "    <tr>\n",
       "      <th>1</th>\n",
       "      <td>2016</td>\n",
       "      <td>36157</td>\n",
       "    </tr>\n",
       "    <tr>\n",
       "      <th>2</th>\n",
       "      <td>2015</td>\n",
       "      <td>34453</td>\n",
       "    </tr>\n",
       "    <tr>\n",
       "      <th>3</th>\n",
       "      <td>2014</td>\n",
       "      <td>32588</td>\n",
       "    </tr>\n",
       "    <tr>\n",
       "      <th>4</th>\n",
       "      <td>2013</td>\n",
       "      <td>31968</td>\n",
       "    </tr>\n",
       "  </tbody>\n",
       "</table>\n",
       "</div>"
      ],
      "text/plain": [
       "   Year     FI\n",
       "0  2017  37537\n",
       "1  2016  36157\n",
       "2  2015  34453\n",
       "3  2014  32588\n",
       "4  2013  31968"
      ]
     },
     "execution_count": 4,
     "metadata": {},
     "output_type": "execute_result"
    }
   ],
   "source": [
    "female_2000_2017 = income_data.loc[income_data[\"Year\"] >= 2000, [\"Year\", \"FI\"]]\n",
    "female_2000_2017.head()"
   ]
  },
  {
   "cell_type": "markdown",
   "metadata": {},
   "source": [
    "## Third Model\n",
    "* Fit the male model using 2000 to 2017 data;\n",
    "* Predict the income for the next 10 years (2017 to 2027)."
   ]
  },
  {
   "cell_type": "code",
   "execution_count": 5,
   "metadata": {},
   "outputs": [
    {
     "name": "stdout",
     "output_type": "stream",
     "text": [
      "(18, 1) (18, 1)\n"
     ]
    }
   ],
   "source": [
    "# Assign the data to X and y (1967 to 2007)\n",
    "X_male = male_2000_2017[\"Year\"].values.reshape(-1,1)\n",
    "y_male = male_2000_2017[\"MI\"].values.reshape(-1, 1)\n",
    "print(X_male.shape, y_male.shape)"
   ]
  },
  {
   "cell_type": "code",
   "execution_count": 6,
   "metadata": {},
   "outputs": [
    {
     "data": {
      "text/plain": [
       "LinearRegression(copy_X=True, fit_intercept=True, n_jobs=1, normalize=False)"
      ]
     },
     "execution_count": 6,
     "metadata": {},
     "output_type": "execute_result"
    }
   ],
   "source": [
    "from sklearn.linear_model import LinearRegression\n",
    "model_male = LinearRegression()\n",
    "model_male.fit(X_male, y_male)"
   ]
  },
  {
   "cell_type": "code",
   "execution_count": 7,
   "metadata": {},
   "outputs": [
    {
     "name": "stdout",
     "output_type": "stream",
     "text": [
      "Min Male X Value: [[2000]]\n",
      "Max Male X Value: [[2017]]\n"
     ]
    }
   ],
   "source": [
    "x_male_min_2 = np.array([[X_male.min()]])\n",
    "x_male_max_2 = np.array([[X_male.max()]])\n",
    "print(f\"Min Male X Value: {x_male_min_2}\")\n",
    "print(f\"Max Male X Value: {x_male_max_2}\")"
   ]
  },
  {
   "cell_type": "code",
   "execution_count": 8,
   "metadata": {},
   "outputs": [],
   "source": [
    "# Calculate the y_min and y_max using model.predict and x_min and x_max\n",
    "y_male_min_2 = model_male.predict(x_male_min_2)\n",
    "y_male_max_2 = model_male.predict(x_male_max_2)"
   ]
  },
  {
   "cell_type": "code",
   "execution_count": 9,
   "metadata": {},
   "outputs": [
    {
     "name": "stdout",
     "output_type": "stream",
     "text": [
      "[[39154.12280702]] [[56450.87719298]]\n"
     ]
    }
   ],
   "source": [
    "print(y_male_min_2, y_male_max_2)"
   ]
  },
  {
   "cell_type": "code",
   "execution_count": 10,
   "metadata": {},
   "outputs": [
    {
     "data": {
      "image/png": "[encoded data removed]",
      "text/plain": [
       "<Figure size 432x288 with 1 Axes>"
      ]
     },
     "metadata": {},
     "output_type": "display_data"
    }
   ],
   "source": [
    "# Plot X and y using plt.scatter\n",
    "# Plot the model fit line using [x_min[0], x_max[0]], [y_min[0], y_max[0]]\n",
    "\n",
    "plt.scatter(X_male, y_male, c='lightblue', label=\"Actual Data\")\n",
    "plt.plot([x_male_min_2[0], x_male_max_2[0]], [y_male_min_2[0], y_male_max_2[0]], c='red', label=\"Line of Best Fit\")\n",
    "\n",
    "plt.title(\"Male Income 2000 to 2017\")\n",
    "plt.xlabel(\"Year\")\n",
    "plt.xlim(2000,2018)\n",
    "plt.ylabel(\"Total Income($)\")\n",
    "plt.legend(loc=\"best\")\n",
    "plt.savefig(\"Male Income 2000_2017\")"
   ]
  },
  {
   "cell_type": "code",
   "execution_count": 11,
   "metadata": {},
   "outputs": [
    {
     "name": "stdout",
     "output_type": "stream",
     "text": [
      "Min Male X Value: [[2017]]\n",
      "Max Male X Value: [[2027]]\n"
     ]
    }
   ],
   "source": [
    "x_male_fut_min_3 = np.array([[2017]])\n",
    "x_male_fut_max_3 = np.array([[2027]])\n",
    "print(f\"Min Male X Value: {x_male_fut_min_3}\")\n",
    "print(f\"Max Male X Value: {x_male_fut_max_3}\")"
   ]
  },
  {
   "cell_type": "code",
   "execution_count": 12,
   "metadata": {},
   "outputs": [
    {
     "name": "stdout",
     "output_type": "stream",
     "text": [
      "[[56450.87719298]] [[66625.43859649]]\n"
     ]
    }
   ],
   "source": [
    "y_male_fut_min_3 = model_male.predict(x_male_fut_min_3)\n",
    "y_male_fut_max_3 = model_male.predict(x_male_fut_max_3)\n",
    "print(y_male_fut_min_3, y_male_fut_max_3)"
   ]
  },
  {
   "cell_type": "code",
   "execution_count": 13,
   "metadata": {},
   "outputs": [
    {
     "data": {
      "image/png": "[encoded data removed]",
      "text/plain": [
       "<Figure size 432x288 with 1 Axes>"
      ]
     },
     "metadata": {},
     "output_type": "display_data"
    }
   ],
   "source": [
    "#Male income over the next 10 years\n",
    "plt.scatter(male_2000_2017[\"Year\"],male_2000_2017[\"MI\"], alpha = 0.75, color=\"lightblue\", label=\"Actual Data\")\n",
    "\n",
    "plt.plot([x_male_min_2[0], x_male_max_2[0]], [y_male_min_2[0], y_male_max_2[0]], c='red', label=\"Line of Best Fit\")\n",
    "plt.plot([x_male_fut_min_3[0], x_male_fut_max_3[0]], [y_male_fut_min_3[0], y_male_fut_max_3[0]], c='green', label=\"2017-2027 Prediction\")\n",
    "\n",
    "plt.title(\"Male Income Over the Next 10 Years\")\n",
    "plt.xlabel(\"Year\")\n",
    "plt.ylabel(\"Total Income($)\")\n",
    "plt.legend(loc=\"best\")\n",
    "plt.savefig(\"Future Male Income_3\")\n",
    "plt.show()"
   ]
  },
  {
   "cell_type": "code",
   "execution_count": 14,
   "metadata": {},
   "outputs": [
    {
     "name": "stdout",
     "output_type": "stream",
     "text": [
      "(18, 1) (18, 1)\n"
     ]
    }
   ],
   "source": [
    "# Assign the data to X and y (1967 to 2007)\n",
    "X_female = female_2000_2017[\"Year\"].values.reshape(-1,1)\n",
    "y_female = female_2000_2017[\"FI\"].values.reshape(-1, 1)\n",
    "print(X_female.shape, y_female.shape)"
   ]
  },
  {
   "cell_type": "code",
   "execution_count": 15,
   "metadata": {},
   "outputs": [
    {
     "data": {
      "text/plain": [
       "LinearRegression(copy_X=True, fit_intercept=True, n_jobs=1, normalize=False)"
      ]
     },
     "execution_count": 15,
     "metadata": {},
     "output_type": "execute_result"
    }
   ],
   "source": [
    "model_female = LinearRegression()\n",
    "model_female.fit(X_female, y_female)"
   ]
  },
  {
   "cell_type": "code",
   "execution_count": 16,
   "metadata": {},
   "outputs": [
    {
     "name": "stdout",
     "output_type": "stream",
     "text": [
      "Min Female X Value: [[2000]]\n",
      "Max Female X Value: [[2017]]\n"
     ]
    }
   ],
   "source": [
    "x_female_min_2 = np.array([[X_female.min()]])\n",
    "x_female_max_2 = np.array([[X_female.max()]])\n",
    "print(f\"Min Female X Value: {x_female_min_2}\")\n",
    "print(f\"Max Female X Value: {x_female_max_2}\")"
   ]
  },
  {
   "cell_type": "code",
   "execution_count": 17,
   "metadata": {},
   "outputs": [],
   "source": [
    "# Calculate the y_min and y_max using model.predict and x_min and x_max\n",
    "y_female_min_2 = model_female.predict(x_female_min_2)\n",
    "y_female_max_2 = model_female.predict(x_female_max_2)"
   ]
  },
  {
   "cell_type": "code",
   "execution_count": 18,
   "metadata": {},
   "outputs": [
    {
     "name": "stdout",
     "output_type": "stream",
     "text": [
      "[[22362.73099415]] [[36127.38011696]]\n"
     ]
    }
   ],
   "source": [
    "print(y_female_min_2, y_female_max_2)"
   ]
  },
  {
   "cell_type": "code",
   "execution_count": 19,
   "metadata": {},
   "outputs": [
    {
     "data": {
      "image/png": "[encoded data removed]",
      "text/plain": [
       "<Figure size 432x288 with 1 Axes>"
      ]
     },
     "metadata": {},
     "output_type": "display_data"
    }
   ],
   "source": [
    "# Plot X and y using plt.scatter\n",
    "# Plot the model fit line using [x_min[0], x_max[0]], [y_min[0], y_max[0]]\n",
    "\n",
    "plt.scatter(X_female, y_female, c='pink', label=\"Actual Data\")\n",
    "plt.plot([x_female_min_2[0], x_female_max_2[0]], [y_female_min_2[0], y_female_max_2[0]], c='red', label=\"Line of Best Fit\")\n",
    "\n",
    "plt.title(\"Female Income 1967 to 2017\")\n",
    "plt.xlabel(\"Year\")\n",
    "plt.xlim(2000,2018)\n",
    "plt.ylabel(\"Total Income($)\")\n",
    "plt.legend(loc=\"best\")\n",
    "plt.savefig(\"Female Income 2007_2017\")"
   ]
  },
  {
   "cell_type": "code",
   "execution_count": 20,
   "metadata": {},
   "outputs": [
    {
     "name": "stdout",
     "output_type": "stream",
     "text": [
      "Min Female X Value: [[2017]]\n",
      "Max Female X Value: [[2027]]\n"
     ]
    }
   ],
   "source": [
    "x_female_fut_min_3 = np.array([[2017]])\n",
    "x_female_fut_max_3 = np.array([[2027]])\n",
    "print(f\"Min Female X Value: {x_female_fut_min_3}\")\n",
    "print(f\"Max Female X Value: {x_female_fut_max_3}\")"
   ]
  },
  {
   "cell_type": "code",
   "execution_count": 22,
   "metadata": {},
   "outputs": [
    {
     "name": "stdout",
     "output_type": "stream",
     "text": [
      "[[36127.38011696]] [[44224.23254214]]\n"
     ]
    }
   ],
   "source": [
    "y_female_fut_min_3 = model_female.predict(x_female_fut_min_3)\n",
    "y_female_fut_max_3 = model_female.predict(x_female_fut_max_3)\n",
    "print(y_female_fut_min_3, y_female_fut_max_3)"
   ]
  },
  {
   "cell_type": "code",
   "execution_count": 23,
   "metadata": {},
   "outputs": [
    {
     "data": {
      "image/png": "[encoded data removed]",
      "text/plain": [
       "<Figure size 432x288 with 1 Axes>"
      ]
     },
     "metadata": {},
     "output_type": "display_data"
    }
   ],
   "source": [
    "# Female income over the next 10 years\n",
    "plt.scatter(female_2000_2017[\"Year\"],female_2000_2017[\"FI\"], alpha = 0.75, color=\"pink\", label=\"Actual Data\")\n",
    "\n",
    "plt.plot([x_female_min_2[0], x_female_max_2[0]], [y_female_min_2[0], y_female_max_2[0]], c='red', label=\"Line of Best Fit\")\n",
    "plt.plot([x_female_fut_min_3[0], x_female_fut_max_3[0]], [y_female_fut_min_3[0], y_female_fut_max_3[0]], c='green', label=\"2017-2027 Prediction\")\n",
    "\n",
    "plt.title(\"Female Income Over the Next 10 Years\")\n",
    "plt.xlabel(\"Year\")\n",
    "plt.ylabel(\"Total Income($)\")\n",
    "plt.legend(loc=\"best\")\n",
    "plt.savefig(\"Future Female Income_3\")\n",
    "plt.show()"
   ]
  },
  {
   "cell_type": "code",
   "execution_count": 24,
   "metadata": {},
   "outputs": [
    {
     "data": {
      "image/png": "[encoded data removed]",
      "text/plain": [
       "<Figure size 432x288 with 1 Axes>"
      ]
     },
     "metadata": {},
     "output_type": "display_data"
    }
   ],
   "source": [
    "# Male and Female income over the next 10 years\n",
    "plt.scatter(female_2000_2017[\"Year\"],female_2000_2017[\"FI\"], alpha = 0.75, color=\"pink\", label=\"Actual Female Data\")\n",
    "plt.scatter(male_2000_2017[\"Year\"],male_2000_2017[\"MI\"], alpha = 0.75, color=\"lightblue\", label=\"Actual Male Data\")\n",
    "\n",
    "plt.plot([x_female_min_2[0], x_female_max_2[0]], [y_female_min_2[0], y_female_max_2[0]], c='green',label=\"Female Line of Best Fit\")\n",
    "plt.plot([x_female_fut_min_3[0], x_female_fut_max_3[0]], [y_female_fut_min_3[0], y_female_fut_max_3[0]], c='green')\n",
    "plt.plot([x_male_min_2[0], x_male_max_2[0]], [y_male_min_2[0], y_male_max_2[0]], c='red', label=\"Male Line of Best Fit\")\n",
    "plt.plot([x_male_fut_min_3[0], x_male_fut_max_3[0]], [y_male_fut_min_3[0], y_male_fut_max_3[0]], c='red')\n",
    "\n",
    "plt.title(\"Male and Female Income Over the Next 10 Years\")\n",
    "plt.xlabel(\"Year\")\n",
    "plt.ylabel(\"Total Income($)\")\n",
    "plt.legend(loc=\"best\")\n",
    "plt.savefig(\"Comparasion_Male_Female_21_century\")\n",
    "plt.show()"
   ]
  }
 ],
 "metadata": {
  "celltoolbar": "Create Assignment",
  "kernelspec": {
   "display_name": "Python 3",
   "language": "python",
   "name": "python3"
  },
  "language_info": {
   "codemirror_mode": {
    "name": "ipython",
    "version": 3
   },
   "file_extension": ".py",
   "mimetype": "text/x-python",
   "name": "python",
   "nbconvert_exporter": "python",
   "pygments_lexer": "ipython3",
   "version": "3.6.5"
  },
  "varInspector": {
   "cols": {
    "lenName": 16,
    "lenType": 16,
    "lenVar": 40
   },
   "kernels_config": {
    "python": {
     "delete_cmd_postfix": "",
     "delete_cmd_prefix": "del ",
     "library": "var_list.py",
     "varRefreshCmd": "print(var_dic_list())"
    },
    "r": {
     "delete_cmd_postfix": ") ",
     "delete_cmd_prefix": "rm(",
     "library": "var_list.r",
     "varRefreshCmd": "cat(var_dic_list()) "
    }
   },
   "types_to_exclude": [
    "module",
    "function",
    "builtin_function_or_method",
    "instance",
    "_Feature"
   ],
   "window_display": false
  }
 },
 "nbformat": 4,
 "nbformat_minor": 2
}
